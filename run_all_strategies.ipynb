{
 "cells": [
  {
   "cell_type": "markdown",
   "id": "bbebb253-ba76-4ec3-9a1e-3bdf41ad41de",
   "metadata": {
    "tags": []
   },
   "source": [
    "# This notebook runs all the different strategies with their dedicated notebook\n",
    "\n",
    "Several design $\\mathbb{X} = (\\mathbf{x}_j)_{j=1}^n$ are investigated to ensure robustness. Each one is associated with a \"seed_x\", which is the random seed used to generate the design. For every design, a csv file called \"results_measures_seed_x{seed_x}.csv\" is stored, with the 10 first rows corresponding to the true values of the outputs and the 10 others to the noisy observations, obtained with sigma = 0.9 for the two first output variables and 0.3 for the last one. "
   ]
  },
  {
   "cell_type": "code",
   "execution_count": null,
   "id": "8a95efd1-70f3-4ab7-965f-6ddaddf2e149",
   "metadata": {},
   "outputs": [],
   "source": [
    "import os, sys\n",
    "import numpy                as np\n",
    "import pandas as pd\n",
    "import matplotlib.pyplot    as plt\n",
    "import pandas as pd\n",
    "from joblib import Parallel, delayed\n",
    "from scipy.stats import multivariate_normal, truncnorm, norm\n",
    "from scipy.optimize import minimize\n",
    "import pickle\n",
    "import random\n",
    "from matplotlib.pyplot import figure\n",
    "from scipy.stats import qmc, uniform\n",
    "import matplotlib.patches as mpatches\n",
    "\n",
    "from pymcmcstat.MCMC import MCMC\n",
    "from pymcmcstat.ParallelMCMC import ParallelMCMC, load_parallel_simulation_results\n",
    "from pymcmcstat.chain import ChainStatistics as CS\n",
    "from pymcmcstat.chain import ChainProcessing as CP\n"
   ]
  },
  {
   "cell_type": "code",
   "execution_count": null,
   "id": "d83dc5b1-cf29-44f4-a087-ecb8ac0fce6a",
   "metadata": {},
   "outputs": [],
   "source": [
    "%run gp_simus.ipynb #notebook for the metamodel \n",
    "%run utils_calib.ipynb #notebook with needed function for the methods\n",
    "%run utils_plot_errors.ipynb #notebook with needed function for the final plots\n",
    "\n",
    "\n",
    "sigma = [0.9,0.9,0.3] #Standard deviation of the observation noise for each output variable\n",
    "bMINlambda = np.array([330, 70,  8000, 3000, 0.1, 0.1]) #lower bounds for lambda \n",
    "bMAXlambda = np.array([470, 150, 10000, 5000, 5, 5.0]) #upper bounds for lambda\n",
    "\n",
    "seed_x = 123456 #indicates which design $x_j$ to work with\n",
    "suff = \"\" #suffix for potential smallnoise study\n",
    "results_measures = pd.read_csv(f\"measurement_points/results_measures_seed_x{seed_x}\" + suff + \".csv\", index_col=0)\n",
    "true_values = results_measures.iloc[:10,:] #get true values\n",
    "results_measures = results_measures.iloc[10:,:] #get noisy observations\n",
    "\n",
    "with open(f'surrogate_models/mm_list_seed_x{seed_x}.pkl', 'rb') as f: #get the GP hyperparameters\n",
    "    mm_list = pickle.load(f)\n",
    "    \n",
    "def save_results(data, file, pre_path, calib = None): #function to save the results obtained with each strategy\n",
    "    if(os.path.isdir(pre_path)==False):  \n",
    "        os.mkdir(pre_path)\n",
    "    if(os.path.isdir(pre_path + f\"/calib_{calib}\")==False): \n",
    "        os.mkdir(pre_path + f\"/calib_{calib}\")\n",
    "    data.to_csv(pre_path +f\"/calib_{calib}/{file}\")\n",
    "\n",
    "\n",
    "\n",
    "calib_only = [1,2,3] #index of the calibration problems to consider. [1,2,3] means that the three configurations will be tested: observations of the first variable, of the second one, or of the third one. "
   ]
  },
  {
   "cell_type": "markdown",
   "id": "f21dfdb4-b51c-4467-babd-f6050c4f1763",
   "metadata": {},
   "source": [
    "# Hierarchical model"
   ]
  },
  {
   "cell_type": "code",
   "execution_count": null,
   "id": "4d080dcd-bd24-4e41-876c-b97de204019a",
   "metadata": {},
   "outputs": [],
   "source": [
    "index_lambda_p = [2,3,4,5] #indexes of the four physical parameters\n",
    "index_lambda_q = [0,1] #indexes of the two numerical parameters\n",
    "model_error = True #Model error is considered, so hierarchical bayesian model for the two numerical parameters\n",
    "scale = 0.45 #std deviation of the truncated gaussian prior\n",
    "pre_path = f\"seed_x{seed_x}\" + suff + \"/hierarchical_model\" #where to store the results"
   ]
  },
  {
   "cell_type": "code",
   "execution_count": null,
   "id": "d5964ab4-e2a3-4dc9-96b3-437bf8927b8a",
   "metadata": {},
   "outputs": [],
   "source": [
    "%run investigate_alphamap.ipynb"
   ]
  },
  {
   "cell_type": "code",
   "execution_count": null,
   "id": "a8f129aa-8b54-4952-b016-b1578fccdf76",
   "metadata": {},
   "outputs": [],
   "source": [
    "%run bayes_alpha.ipynb"
   ]
  },
  {
   "cell_type": "code",
   "execution_count": null,
   "id": "3988aa47-53c2-4325-a64f-b2ae1ea43b4d",
   "metadata": {},
   "outputs": [],
   "source": [
    "%run bayes_lambda.ipynb "
   ]
  },
  {
   "cell_type": "code",
   "execution_count": null,
   "id": "f14f69fe-dcc0-475f-9371-d6119c4c5cc6",
   "metadata": {},
   "outputs": [],
   "source": [
    "%run full_bayes.ipynb"
   ]
  },
  {
   "cell_type": "markdown",
   "id": "f3981890-cce8-4165-a57c-7187d43c2f33",
   "metadata": {},
   "source": [
    "# Uniform prior"
   ]
  },
  {
   "cell_type": "code",
   "execution_count": null,
   "id": "448286da-467f-4219-a103-9f6fc5e1d453",
   "metadata": {},
   "outputs": [],
   "source": [
    "index_lambda_p = [2,3,4,5,0,1] #here, all variables are considered with uniform prior\n",
    "index_lambda_q = [] #no hierarchical model\n",
    "model_error = True \n",
    "scale = None \n",
    "pre_path = f\"seed_x{seed_x}\" + suff + \"/uniform_error\" #where to store the results"
   ]
  },
  {
   "cell_type": "code",
   "execution_count": null,
   "id": "ef8765b5-0e53-43e3-99b9-539b38ecfe17",
   "metadata": {},
   "outputs": [],
   "source": [
    "%run bayes_lambda.ipynb"
   ]
  },
  {
   "cell_type": "markdown",
   "id": "6f6cf898-069d-451f-9c71-2189286c3699",
   "metadata": {},
   "source": [
    "# No model error"
   ]
  },
  {
   "cell_type": "code",
   "execution_count": null,
   "id": "69736bd2-6751-404e-9c04-50d70ca20cef",
   "metadata": {},
   "outputs": [],
   "source": [
    "index_lambda_p = [2,3,4,5] #indexes of the four physical parameters\n",
    "index_lambda_q = [0,1] #indexes of the two numerical parameters\n",
    "model_error = False #No model error is considered, so the two numerical parameters are fixed\n",
    "scale = None \n",
    "pre_path = f\"seed_x{seed_x}\" + suff + \"/no_error\""
   ]
  },
  {
   "cell_type": "code",
   "execution_count": null,
   "id": "1ddd8280-e037-4ea9-9711-1a946aafee79",
   "metadata": {},
   "outputs": [],
   "source": [
    "%run bayes_lambda.ipynb"
   ]
  },
  {
   "cell_type": "markdown",
   "id": "f98539a1-b571-4a7a-b9a0-a80c02d36b3a",
   "metadata": {},
   "source": [
    "# Embedded discrepancy"
   ]
  },
  {
   "cell_type": "code",
   "execution_count": null,
   "id": "8b5f911e-9393-4ced-8c1b-13b2c2a1115b",
   "metadata": {},
   "outputs": [],
   "source": [
    "pre_path = f\"seed_x{seed_x}\" + suff + \"/embedded_discrepancy\"\n",
    "\n",
    "# %run embedded_discrepancy.ipynb"
   ]
  }
 ],
 "metadata": {
  "kernelspec": {
   "display_name": "Python 3 (ipykernel)",
   "language": "python",
   "name": "python3"
  },
  "language_info": {
   "codemirror_mode": {
    "name": "ipython",
    "version": 3
   },
   "file_extension": ".py",
   "mimetype": "text/x-python",
   "name": "python",
   "nbconvert_exporter": "python",
   "pygments_lexer": "ipython3",
   "version": "3.11.5"
  }
 },
 "nbformat": 4,
 "nbformat_minor": 5
}
