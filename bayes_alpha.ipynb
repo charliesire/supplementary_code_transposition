{
 "cells": [
  {
   "cell_type": "markdown",
   "id": "591fa3e7-9699-4ec2-ab6a-c36ae7998708",
   "metadata": {},
   "source": [
    "This notebook is dedicated to the sampling of $\\boldsymbol{\\alpha}$\n",
    "\n",
    "- The function MCMC_alpha generates MCMC samples $(\\boldsymbol{A})_{i=1}^{N}$, taking as argument \"df_Lambda\" a sample $(\\boldsymbol{\\lambda}_k)_{k=1}^M$ i.i.d. with density $p_{\\boldsymbol{\\Lambda}}(.\\mid \\boldsymbol{\\alpha}^{\\star})$, \"stored_likelihoods\" the associated likelihood, \"p_lambda_alphastar\" the prior densities $p_{\\boldsymbol{\\Lambda}}(\\boldsymbol{\\lambda}_k\\mid \\boldsymbol{\\alpha}^\\star)_{k=1}^{n}$ computed with $\\boldsymbol{\\alpha}^\\star$, \"scale\" the standard deviation of the truncated normal prior, \"alpha_star\" the estimated maximum a posterior for the hyperparameters $\\boldsymbol{\\alpha}$, \"tune_size\" the burnin sample size, \"size\" the sample size, and \"rngseed\" the random seed\n",
    "- The function MCMC_alpha_multichains generate multichains MCMC samples with the same arguments as MCMC_alpha\n",
    "- The function MCMC_alpha_loo uses MCMC_alpha_multichains to generate the MCMC samples for each idx_loo. For a given calibration variable index_calib, it generates $(\\boldsymbol{\\lambda}_k)_{k=1}^M$ i.i.d. with density $p_{\\boldsymbol{\\Lambda}}(.\\mid \\boldsymbol{\\alpha}^{\\star})$, compute the associated likelihoods and the prior densities $p_{\\boldsymbol{\\Lambda}}(\\boldsymbol{\\lambda}_k\\mid \\boldsymbol{\\alpha}^\\star)_{k=1}^{n}$,and then generates the MCMC samples $(\\boldsymbol{A})_{i=1}^{N}.$"
   ]
  },
  {
   "cell_type": "code",
   "execution_count": null,
   "id": "e783cb52-4ca6-43fc-b66b-9f1d9bc6770b",
   "metadata": {},
   "outputs": [],
   "source": [
    "def MCMC_alpha(df_Lambda, stored_likelihoods, p_lambda_alphastar, scale, alpha_star, tune_size, size, rngseed):\n",
    "\n",
    "    def ssfun(theta, data): #log likelihood function\n",
    "        return -2*np.log(max(10**(-30), likelihood_alpha(alpha = theta, likelihoods_alpha_star = stored_likelihoods, denom_is = p_lambda_alphastar, df_Lambda = df_Lambda, index_lambda_p = index_lambda_p, index_lambda_q = index_lambda_q, scale = scale) ))\n",
    "                         \n",
    "    bounds = [(max(alpha_star[ii] - delta_alpha,alpha_min), min(alpha_max, alpha_star[ii]+delta_alpha)) for ii in range(len(alpha_star))] #bounds \n",
    "\n",
    "    mcstat = MCMC(rngseed=rngseed) \n",
    "\n",
    "    x = np.array(range(10))\n",
    "    y = x.copy()\n",
    "    mcstat.data.add_data_set(x, y)\n",
    "    mcstat.simulation_options.define_simulation_options(\n",
    "        nsimu=int(tune_size+size),\n",
    "        updatesigma=False, verbosity = 0, waitbar= True)\n",
    "    mcstat.model_settings.define_model_settings(sos_function=ssfun)\n",
    "    for ii in range(len(alpha_star)):\n",
    "        mcstat.parameters.add_model_parameter(\n",
    "            name=str('$alpha{}$'.format(ii + 1)),\n",
    "            theta0 = alpha_star[ii],\n",
    "            minimum = bounds[ii][0],\n",
    "            maximum = bounds[ii][1]\n",
    "            )\n",
    "\n",
    "    mcstat.run_simulation()\n",
    "    return mcstat.simulation_results.results\n",
    "\n",
    "def MCMC_alpha_multichains(df_Lambda, stored_likelihoods, p_lambda_alphastar, scale, alpha_star, tune_size, size, rngseed):\n",
    "    np.random.seed(rngseed)\n",
    "    seeds = np.random.randint(1000, size = num_chain) #get seed for each chain\n",
    "    res = [MCMC_alpha(df_Lambda = df_Lambda, stored_likelihoods = stored_likelihoods, p_lambda_alphastar = p_lambda_alphastar, scale = scale, alpha_star = alpha_star, tune_size = tune_size, size = size, rngseed = ss) for ss in seeds] #run every MCMC chain\n",
    "    samples = np.concatenate([res[i][\"chain\"][tune_size:,] for i in range(len(res))]) #concatenate the chain without the burnin phase\n",
    "    return samples\n",
    "\n",
    "def MCMC_alpha_loo(index_calib, scale, tune_size, size, rngseed):\n",
    "    alpha_df = pd.read_csv(pre_path + f\"/calib_{index_calib}/alpha_df.csv\", index_col = 0).values\n",
    "    for idx_loo in range(len(results_measures)):\n",
    "        print(idx_loo)\n",
    "        alpha_star = alpha_df[idx_loo]\n",
    "        np.random.seed(123456)\n",
    "        df_Lambda = sample_Lambda(alpha = alpha_star, M = M, index_lambda_p = index_lambda_p, index_lambda_q = index_lambda_q) #sample lambda\n",
    "        Ysimu_list, Ystd_list, stored_likelihoods = get_likelihoods_dflambda(df_Lambda = df_Lambda.values, sigma = sigma, myCODE = myCODE, results_measures = results_measures, index=[index_calib], std_code = True, idx_loo = idx_loo) #get likelihoods\n",
    "        p_lambda_alphastar = p_lambda_df(df_Lambda, alpha_star, index_lambda_p, index_lambda_q) #get the prior densities with alpha_star\n",
    "        samples_alpha_post = MCMC_alpha_multichains(df_Lambda = df_Lambda, stored_likelihoods = stored_likelihoods, p_lambda_alphastar = p_lambda_alphastar, scale = scale, alpha_star = alpha_star, tune_size = tune_size, size = size, rngseed = rngseed) #run multichain MCMC\n",
    "        save_results(pd.DataFrame(samples_alpha_post), f\"samples_alpha_post_{idx_loo}.csv\", pre_path = pre_path, calib = index_calib)\n"
   ]
  },
  {
   "cell_type": "code",
   "execution_count": 4,
   "id": "f9aeb9d6-ff61-4203-8067-691e046583a6",
   "metadata": {
    "tags": []
   },
   "outputs": [],
   "source": [
    "plot_bool = False \n",
    "tune_size = 1000\n",
    "size = 250\n",
    "rngseed = 10\n",
    "num_chain = 3\n",
    "M = 2000\n",
    "\n",
    "alpha_min = -10\n",
    "alpha_max = 10\n",
    "delta_alpha = 4\n",
    "\n",
    "\n",
    "[MCMC_alpha_loo(index_calib = index_calib, scale = scale, tune_size = tune_size, size = size, rngseed = rngseed) for index_calib in calib_only]"
   ]
  }
 ],
 "metadata": {
  "kernelspec": {
   "display_name": "Python 3 (ipykernel)",
   "language": "python",
   "name": "python3"
  },
  "language_info": {
   "codemirror_mode": {
    "name": "ipython",
    "version": 3
   },
   "file_extension": ".py",
   "mimetype": "text/x-python",
   "name": "python",
   "nbconvert_exporter": "python",
   "pygments_lexer": "ipython3",
   "version": "3.11.5"
  }
 },
 "nbformat": 4,
 "nbformat_minor": 5
}
